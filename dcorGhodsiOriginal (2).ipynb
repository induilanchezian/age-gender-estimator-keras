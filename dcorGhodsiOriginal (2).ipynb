{
 "cells": [
  {
   "cell_type": "code",
   "execution_count": 2,
   "metadata": {},
   "outputs": [],
   "source": [
    "import tensorflow\n",
    "try:\n",
    "    # Python 2\n",
    "    xrange\n",
    "except NameError:\n",
    "    # Python 3, xrange is now named range\n",
    "    xrange = range\n",
    "from keras.layers import Flatten, Dense, Reshape\n",
    "from keras.layers import Input,InputLayer, Dense, Activation, ZeroPadding2D, BatchNormalization, Flatten, Conv2D\n",
    "from keras.layers import AveragePooling2D, MaxPooling2D, Dropout\n",
    "from keras.models import Sequential,Model\n",
    "from keras.optimizers import SGD\n",
    "from keras.callbacks import ModelCheckpoint,LearningRateScheduler\n",
    "from keras.callbacks import ModelCheckpoint\n",
    "# Python 2 code that uses xrange(...) unchanged, and any\n",
    "# range(...) replaced with list(range(...))\n",
    "from sklearn.manifold import TSNE\n",
    "from sklearn.utils import shuffle\n",
    "from sklearn import preprocessing\n",
    "import scipy.io\n",
    "from mpl_toolkits.mplot3d import Axes3D\n",
    "from keras.layers import Input, Dense, Conv2D, MaxPooling2D, UpSampling2D\n",
    "from keras.models import Model\n",
    "from keras import backend as K\n",
    "\n",
    "import keras\n",
    "from keras.layers import Input, Dense\n",
    "from keras.models import Model\n",
    "from dcor import distance_correlation\n",
    "from keras import losses\n",
    "from keras.datasets import mnist\n",
    "import numpy as np\n",
    "import pandas as pd\n",
    "import sys\n",
    "from sklearn.manifold import TSNE\n",
    "from sklearn.utils import shuffle\n",
    "from sklearn import preprocessing\n",
    "import scipy.io\n",
    "from mpl_toolkits.mplot3d import Axes3D\n",
    "from keract import get_activations\n"
   ]
  },
  {
   "cell_type": "code",
   "execution_count": 3,
   "metadata": {},
   "outputs": [
    {
     "name": "stdout",
     "output_type": "stream",
     "text": [
      "x_train shape: (60000, 784)\n",
      "60000 train samples\n",
      "10000 test samples\n"
     ]
    }
   ],
   "source": [
    " '''Trains a simple convnet on the MNIST dataset.\n",
    "\n",
    "Gets to 99.25% test accuracy after 12 epochs\n",
    "(there is still a lot of margin for parameter tuning).\n",
    "16 seconds per epoch on a GRID K520 GPU.\n",
    "'''\n",
    "\n",
    "from __future__ import print_function\n",
    "import keras\n",
    "from keras.datasets import mnist\n",
    "from keras.models import Sequential\n",
    "from keras.layers import Dense, Dropout, Flatten\n",
    "from keras.layers import Conv2D, MaxPooling2D\n",
    "from keras import backend as K\n",
    "\n",
    "batch_size = 128\n",
    "num_classes = 10\n",
    "#epochs = 12\n",
    "\n",
    "# input image dimensions\n",
    "img_rows, img_cols = 28, 28\n",
    "\n",
    "# the data, split between train and test sets\n",
    "(x_train, y_train), (x_test, y_test) = mnist.load_data()\n",
    "\n",
    "if K.image_data_format() == 'channels_first':\n",
    "    x_train = x_train.reshape(x_train.shape[0], 1, img_rows, img_cols)\n",
    "    x_test = x_test.reshape(x_test.shape[0], 1, img_rows, img_cols)\n",
    "    input_shape = (1, img_rows, img_cols)\n",
    "else:\n",
    "    x_train = x_train.reshape(x_train.shape[0], img_rows, img_cols, 1)\n",
    "    x_test = x_test.reshape(x_test.shape[0], img_rows, img_cols, 1)\n",
    "    input_shape = (img_rows, img_cols, 1)\n",
    "\n",
    "x_train = x_train.astype('float32')\n",
    "x_test = x_test.astype('float32')\n",
    "x_train /= 255\n",
    "x_test /= 255\n",
    "x_train=x_train.reshape(60000,784)\n",
    "x_test=x_test.reshape(10000,784)\n",
    "print('x_train shape:', x_train.shape)\n",
    "print(x_train.shape[0], 'train samples')\n",
    "print(x_test.shape[0], 'test samples')\n",
    "\n",
    "# convert class vectors to binary class matrices\n",
    "y_train = keras.utils.to_categorical(y_train, num_classes)\n",
    "y_test = keras.utils.to_categorical(y_test, num_classes)\n",
    "\n",
    "type_ae = 'dcor'\n",
    "layers = 2\n",
    "layersDec = 5\n",
    "activation_f = keras.activations.tanh\n",
    "inner_dims = 10\n",
    "d_dims = 'T'\n",
    "orig_dims = 784"
   ]
  },
  {
   "cell_type": "code",
   "execution_count": 4,
   "metadata": {},
   "outputs": [
    {
     "name": "stdout",
     "output_type": "stream",
     "text": [
      "Train on 60000 samples, validate on 10000 samples\n",
      "Epoch 1/4\n",
      "60000/60000 [==============================] - 190s 3ms/step - loss: 0.1738 - h_loss: -2.2603 - dense_8_loss: 1.5300 - h_acc: 4.1667e-04 - dense_8_acc: 0.5161 - val_loss: -0.2743 - val_h_loss: -2.3741 - val_dense_8_loss: 1.1501 - val_h_acc: 2.0000e-04 - val_dense_8_acc: 0.7188\n",
      "Epoch 2/4\n",
      "60000/60000 [==============================] - 192s 3ms/step - loss: -0.5525 - h_loss: -2.6910 - dense_8_loss: 1.0621 - h_acc: 3.0000e-04 - dense_8_acc: 0.7323 - val_loss: -0.6072 - val_h_loss: -2.5547 - val_dense_8_loss: 0.9257 - val_h_acc: 1.0000e-04 - val_dense_8_acc: 0.8162\n",
      "Epoch 3/4\n",
      "60000/60000 [==============================] - 190s 3ms/step - loss: -0.8728 - h_loss: -2.7609 - dense_8_loss: 0.7837 - h_acc: 2.5000e-04 - dense_8_acc: 0.8244 - val_loss: -0.8949 - val_h_loss: -2.6072 - val_dense_8_loss: 0.6694 - val_h_acc: 2.0000e-04 - val_dense_8_acc: 0.8624\n",
      "Epoch 4/4\n",
      "60000/60000 [==============================] - 191s 3ms/step - loss: -1.1112 - h_loss: -2.8055 - dense_8_loss: 0.5721 - h_acc: 2.5000e-04 - dense_8_acc: 0.8800 - val_loss: -1.1298 - val_h_loss: -2.6734 - val_dense_8_loss: 0.4743 - val_h_acc: 7.0000e-04 - val_dense_8_acc: 0.9241\n"
     ]
    }
   ],
   "source": [
    "epochs = 4\n",
    "#Create first input and dense layer\n",
    "input_layer = Input(shape=(orig_dims,))\n",
    "encoded_layer = Dense(orig_dims, activation=activation_f)(input_layer)\n",
    "\n",
    "#Create layers - 1 dense layer\n",
    "for i in xrange(layers-1):\n",
    "\tencoded_layer = Dense(orig_dims, activation=activation_f)(encoded_layer)\n",
    "\n",
    "#Initialize shared hidden state layer\n",
    "hidden_state = Dense(orig_dims,activation=activation_f,name='h')\n",
    "\n",
    "#Create latent layer to output\n",
    "encoded = hidden_state(encoded_layer)\n",
    "\n",
    "#Create latent layer for decoder\n",
    "encoded_output = hidden_state(encoded_layer)\n",
    "\n",
    "#Create decoder\n",
    "decoded = Dense(inner_dims, activation=activation_f)(encoded_output)\n",
    "for i in xrange(layersDec-1):\n",
    "\tdecoded = Dense(inner_dims, activation=activation_f)(decoded)\n",
    "\n",
    "output_layer = Dense(inner_dims, activation='softplus')(decoded)\n",
    "\n",
    "encoder = Model(input_layer, encoded)\n",
    "#encoder_2 = Model(input_layer,encoded_layer)\n",
    "\n",
    "#Wrappers for keras\n",
    "def custom_loss1(y_true,y_pred):\n",
    "\tdcor = -1*distance_correlation(y_true,encoded)\n",
    "\treturn dcor\n",
    "\n",
    "def custom_loss2(y_true,y_pred):\n",
    "\trecon_loss = losses.categorical_crossentropy(y_true, y_pred)\n",
    "\treturn recon_loss\n",
    "\n",
    "if type_ae=='dcor':\n",
    "\tautoencoder = Model(input_layer, outputs=[encoded,output_layer])\n",
    "\tautoencoder.compile(optimizer='adadelta', loss=[custom_loss1, custom_loss2],\n",
    "                        loss_weights=[0.6, 1],metrics=['accuracy'])\n",
    "\tautoencoder.fit(x_train, [x_train,y_train],\n",
    "                \tbatch_size=batch_size,\n",
    "                \tepochs=epochs,\n",
    "                \tshuffle=True,\n",
    "                \tvalidation_data=(x_test, [x_test,y_test]),verbose=1)\n",
    "\n",
    "else:\n",
    "\tautoencoder = Model(input_layer, output_layer)\n",
    "\tautoencoder.compile(optimizer='adadelta', loss='binary_crossentropy')\n",
    "\tautoencoder.fit(x_train, x_train,\n",
    "                \tbatch_size=batch_size,\n",
    "                \tepochs=epochs,\n",
    "                \tshuffle=True,\n",
    "                \tvalidation_data=(x_test, x_test))\n",
    "\n",
    "\n",
    "import matplotlib.pyplot as plt\n",
    "\n",
    "x_test_encoded = encoder.predict(x_test)\n",
    "x_train_encoded = encoder.predict(x_train)\n",
    "\n",
    "x2test = encoder_2.predict(x_test)\n",
    "x2train =  encoder_2.predict(x_train)\n",
    "\n"
   ]
  },
  {
   "cell_type": "code",
   "execution_count": 19,
   "metadata": {},
   "outputs": [
    {
     "name": "stdout",
     "output_type": "stream",
     "text": [
      "[3.9402829e-04 6.1571341e-02 7.6744489e-02 4.9763642e-02 9.1227740e-02\n",
      " 2.5773380e-02 2.6838263e-02 4.8295636e+00 7.8730974e-03 4.4846094e-01]\n",
      "[0. 0. 0. 0. 0. 0. 0. 1. 0. 0.]\n"
     ]
    }
   ],
   "source": [
    "x_test_encoded = autoencoder.predict(x_test)\n",
    "x_train_encoded = autoencoder.predict(x_train)\n",
    "print(x_test_encoded[1][0])\n",
    "print(y_test[0])"
   ]
  },
  {
   "cell_type": "code",
   "execution_count": 6,
   "metadata": {},
   "outputs": [
    {
     "data": {
      "image/png": "[encoded data removed]",
      "text/plain": [
       "<Figure size 1440x288 with 18 Axes>"
      ]
     },
     "metadata": {
      "needs_background": "light"
     },
     "output_type": "display_data"
    }
   ],
   "source": [
    "testPreds_1_9 = autoencoder.predict(x_test,batch_size=batch_size)\n",
    "n = 10\n",
    "plt.figure(figsize=(20, 4))\n",
    "for i in range(1,n):\n",
    "    # display original\n",
    "    ax = plt.subplot(2, n, i)\n",
    "    plt.imshow(x_test[i].reshape(28, 28))\n",
    "    plt.gray()\n",
    "    ax.get_xaxis().set_visible(False)\n",
    "    ax.get_yaxis().set_visible(False)\n",
    "\n",
    "    # display reconstruction\n",
    "    ax = plt.subplot(2, n, i + n)\n",
    "    plt.imshow(testPreds_1_9[0][i].reshape(28, 28))\n",
    "    plt.gray()\n",
    "    ax.get_xaxis().set_visible(False)\n",
    "    ax.get_yaxis().set_visible(False)\n",
    "    \n",
    "plt.show()"
   ]
  },
  {
   "cell_type": "code",
   "execution_count": 7,
   "metadata": {},
   "outputs": [
    {
     "name": "stdout",
     "output_type": "stream",
     "text": [
      "10000/10000 [==============================] - 9s 924us/step\n"
     ]
    }
   ],
   "source": [
    "scores = autoencoder.evaluate(x_test, [x_test, y_test], verbose=1)\n"
   ]
  },
  {
   "cell_type": "code",
   "execution_count": 8,
   "metadata": {},
   "outputs": [
    {
     "name": "stdout",
     "output_type": "stream",
     "text": [
      "['loss', 'h_loss', 'dense_8_loss', 'h_acc', 'dense_8_acc']\n"
     ]
    },
    {
     "data": {
      "text/plain": [
       "[-0.6121964097976684, -1.8107816444396974, 0.474272620677948, 0.0007, 0.9241]"
      ]
     },
     "execution_count": 8,
     "metadata": {},
     "output_type": "execute_result"
    }
   ],
   "source": [
    "print(autoencoder.metrics_names)\n",
    "scores"
   ]
  },
  {
   "cell_type": "code",
   "execution_count": 9,
   "metadata": {},
   "outputs": [
    {
     "data": {
      "text/plain": [
       "dtype('float32')"
      ]
     },
     "execution_count": 9,
     "metadata": {},
     "output_type": "execute_result"
    }
   ],
   "source": [
    "y_test.dtype"
   ]
  },
  {
   "cell_type": "code",
   "execution_count": 10,
   "metadata": {},
   "outputs": [],
   "source": [
    "from scipy.spatial.distance import pdist, squareform\n",
    "import numpy as np\n",
    "import copy\n",
    "\n",
    "\n",
    "def distcorr(Xval, Yval, pval=False, nruns=500):\n",
    "    \"\"\" Compute the distance correlation function, returning the p-value.\n",
    "    Based on Satra/distcorr.py (gist aa3d19a12b74e9ab7941)\n",
    "\n",
    "    a = [1,2,3,4,5]\n",
    "    b = np.array([1,2,9,4,4])\n",
    "    distcorr(a, b)\n",
    "    (0.76267624241686671, 0.404)\n",
    "    \"\"\"\n",
    "    X = np.atleast_1d(Xval)\n",
    "    Y = np.atleast_1d(Yval)\n",
    "    if np.prod(X.shape) == len(X):\n",
    "        X = X[:, None]\n",
    "    if np.prod(Y.shape) == len(Y):\n",
    "        Y = Y[:, None]\n",
    "    X = np.atleast_2d(X)\n",
    "    Y = np.atleast_2d(Y)\n",
    "    n = X.shape[0]\n",
    "    if Y.shape[0] != X.shape[0]:\n",
    "        raise ValueError('Number of samples must match')\n",
    "    a = squareform(pdist(X))\n",
    "    b = squareform(pdist(Y))\n",
    "    A = a - a.mean(axis=0)[None, :] - a.mean(axis=1)[:, None] + a.mean()\n",
    "    B = b - b.mean(axis=0)[None, :] - b.mean(axis=1)[:, None] + b.mean()\n",
    "\n",
    "    dcov2_xy = (A * B).sum() / float(n * n)\n",
    "    dcov2_xx = (A * A).sum() / float(n * n)\n",
    "    dcov2_yy = (B * B).sum() / float(n * n)\n",
    "    dcor = np.sqrt(dcov2_xy) / np.sqrt(np.sqrt(dcov2_xx) * np.sqrt(dcov2_yy))\n",
    "\n",
    "    if pval:\n",
    "        greater = 0\n",
    "        for i in range(nruns):\n",
    "            Y_r = copy.copy(Yval)\n",
    "            np.random.shuffle(Y_r)\n",
    "            if distcorr(Xval, Y_r, pval=False) >= dcor:\n",
    "                greater += 1\n",
    "        return (dcor, greater / float(nruns))\n",
    "    else:\n",
    "        return dcor"
   ]
  },
  {
   "cell_type": "code",
   "execution_count": 11,
   "metadata": {},
   "outputs": [
    {
     "data": {
      "text/plain": [
       "0.6529079655761683"
      ]
     },
     "execution_count": 11,
     "metadata": {},
     "output_type": "execute_result"
    }
   ],
   "source": [
    "a = [1,2,3,4,5]\n",
    "b = np.array([1,2,9,4,4])\n",
    "distcorr(x_test, y_test)"
   ]
  },
  {
   "cell_type": "code",
   "execution_count": 12,
   "metadata": {},
   "outputs": [
    {
     "data": {
      "text/plain": [
       "0.28931375521071484"
      ]
     },
     "execution_count": 12,
     "metadata": {},
     "output_type": "execute_result"
    }
   ],
   "source": [
    "distcorr(x_test_encoded[0], x_test)"
   ]
  },
  {
   "cell_type": "code",
   "execution_count": 13,
   "metadata": {},
   "outputs": [
    {
     "name": "stdout",
     "output_type": "stream",
     "text": [
      "__________________________________________________________________________________________________\n",
      "Layer (type)                    Output Shape         Param #     Connected to                     \n",
      "==================================================================================================\n",
      "input_1 (InputLayer)            (None, 784)          0                                            \n",
      "__________________________________________________________________________________________________\n",
      "dense_1 (Dense)                 (None, 784)          615440      input_1[0][0]                    \n",
      "__________________________________________________________________________________________________\n",
      "dense_2 (Dense)                 (None, 784)          615440      dense_1[0][0]                    \n",
      "__________________________________________________________________________________________________\n",
      "h (Dense)                       (None, 784)          615440      dense_2[0][0]                    \n",
      "                                                                 dense_2[0][0]                    \n",
      "__________________________________________________________________________________________________\n",
      "dense_3 (Dense)                 (None, 10)           7850        h[1][0]                          \n",
      "__________________________________________________________________________________________________\n",
      "dense_4 (Dense)                 (None, 10)           110         dense_3[0][0]                    \n",
      "__________________________________________________________________________________________________\n",
      "dense_5 (Dense)                 (None, 10)           110         dense_4[0][0]                    \n",
      "__________________________________________________________________________________________________\n",
      "dense_6 (Dense)                 (None, 10)           110         dense_5[0][0]                    \n",
      "__________________________________________________________________________________________________\n",
      "dense_7 (Dense)                 (None, 10)           110         dense_6[0][0]                    \n",
      "__________________________________________________________________________________________________\n",
      "dense_8 (Dense)                 (None, 10)           110         dense_7[0][0]                    \n",
      "==================================================================================================\n",
      "Total params: 1,854,720\n",
      "Trainable params: 1,854,720\n",
      "Non-trainable params: 0\n",
      "__________________________________________________________________________________________________\n"
     ]
    }
   ],
   "source": [
    "autoencoder.summary()"
   ]
  },
  {
   "cell_type": "code",
   "execution_count": 10,
   "metadata": {},
   "outputs": [],
   "source": [
    "filepath = \"weights-improvement-{epoch:02d}-{val_acc:.2f}.hdf5\"\n",
    "checkpoint = ModelCheckpoint(filepath, monitor='val_acc', verbose=1, save_best_only=True, mode='max')\n",
    "callbacks_list = [checkpoint]"
   ]
  },
  {
   "cell_type": "code",
   "execution_count": 14,
   "metadata": {},
   "outputs": [],
   "source": [
    "x_test_encodedBk = [];\n",
    "for i in xrange(9999):\n",
    "\tx_test_encodedBk.append(x_test_encoded[0][i].reshape(784))\n"
   ]
  },
  {
   "cell_type": "code",
   "execution_count": 15,
   "metadata": {},
   "outputs": [],
   "source": [
    "input_img = Input(shape=(28, 28, 1))\n",
    "x = Conv2D(64, (3, 3), padding='same')(input_img)\n",
    "x = Activation('relu')(x)\n",
    "\n",
    "for i in range(15):\n",
    "    x = Conv2D(64, (3, 3), padding='same')(x)\n",
    "    x = BatchNormalization()(x)\n",
    "    x = Activation('relu')(x)\n",
    "\n",
    "x = Dense(1, activation='relu')(x)\n",
    "#output_img = Activation('tanh')(x)\n",
    "#In [14]:\n",
    "#model = Model(input_img, output_img)\n",
    "#model.compile(optimizer='adam', loss='mean_squared_error')"
   ]
  },
  {
   "cell_type": "code",
   "execution_count": 27,
   "metadata": {},
   "outputs": [],
   "source": [
    "autoencoderReconst = Model(input_img,x)"
   ]
  },
  {
   "cell_type": "code",
   "execution_count": 29,
   "metadata": {},
   "outputs": [
    {
     "name": "stdout",
     "output_type": "stream",
     "text": [
      "_________________________________________________________________\n",
      "Layer (type)                 Output Shape              Param #   \n",
      "=================================================================\n",
      "input_2 (InputLayer)         (None, 28, 28, 1)         0         \n",
      "_________________________________________________________________\n",
      "conv2d_1 (Conv2D)            (None, 28, 28, 64)        640       \n",
      "_________________________________________________________________\n",
      "activation_1 (Activation)    (None, 28, 28, 64)        0         \n",
      "_________________________________________________________________\n",
      "conv2d_2 (Conv2D)            (None, 28, 28, 64)        36928     \n",
      "_________________________________________________________________\n",
      "batch_normalization_1 (Batch (None, 28, 28, 64)        256       \n",
      "_________________________________________________________________\n",
      "activation_2 (Activation)    (None, 28, 28, 64)        0         \n",
      "_________________________________________________________________\n",
      "conv2d_3 (Conv2D)            (None, 28, 28, 64)        36928     \n",
      "_________________________________________________________________\n",
      "batch_normalization_2 (Batch (None, 28, 28, 64)        256       \n",
      "_________________________________________________________________\n",
      "activation_3 (Activation)    (None, 28, 28, 64)        0         \n",
      "_________________________________________________________________\n",
      "conv2d_4 (Conv2D)            (None, 28, 28, 64)        36928     \n",
      "_________________________________________________________________\n",
      "batch_normalization_3 (Batch (None, 28, 28, 64)        256       \n",
      "_________________________________________________________________\n",
      "activation_4 (Activation)    (None, 28, 28, 64)        0         \n",
      "_________________________________________________________________\n",
      "conv2d_5 (Conv2D)            (None, 28, 28, 64)        36928     \n",
      "_________________________________________________________________\n",
      "batch_normalization_4 (Batch (None, 28, 28, 64)        256       \n",
      "_________________________________________________________________\n",
      "activation_5 (Activation)    (None, 28, 28, 64)        0         \n",
      "_________________________________________________________________\n",
      "conv2d_6 (Conv2D)            (None, 28, 28, 64)        36928     \n",
      "_________________________________________________________________\n",
      "batch_normalization_5 (Batch (None, 28, 28, 64)        256       \n",
      "_________________________________________________________________\n",
      "activation_6 (Activation)    (None, 28, 28, 64)        0         \n",
      "_________________________________________________________________\n",
      "conv2d_7 (Conv2D)            (None, 28, 28, 64)        36928     \n",
      "_________________________________________________________________\n",
      "batch_normalization_6 (Batch (None, 28, 28, 64)        256       \n",
      "_________________________________________________________________\n",
      "activation_7 (Activation)    (None, 28, 28, 64)        0         \n",
      "_________________________________________________________________\n",
      "conv2d_8 (Conv2D)            (None, 28, 28, 64)        36928     \n",
      "_________________________________________________________________\n",
      "batch_normalization_7 (Batch (None, 28, 28, 64)        256       \n",
      "_________________________________________________________________\n",
      "activation_8 (Activation)    (None, 28, 28, 64)        0         \n",
      "_________________________________________________________________\n",
      "conv2d_9 (Conv2D)            (None, 28, 28, 64)        36928     \n",
      "_________________________________________________________________\n",
      "batch_normalization_8 (Batch (None, 28, 28, 64)        256       \n",
      "_________________________________________________________________\n",
      "activation_9 (Activation)    (None, 28, 28, 64)        0         \n",
      "_________________________________________________________________\n",
      "conv2d_10 (Conv2D)           (None, 28, 28, 64)        36928     \n",
      "_________________________________________________________________\n",
      "batch_normalization_9 (Batch (None, 28, 28, 64)        256       \n",
      "_________________________________________________________________\n",
      "activation_10 (Activation)   (None, 28, 28, 64)        0         \n",
      "_________________________________________________________________\n",
      "conv2d_11 (Conv2D)           (None, 28, 28, 64)        36928     \n",
      "_________________________________________________________________\n",
      "batch_normalization_10 (Batc (None, 28, 28, 64)        256       \n",
      "_________________________________________________________________\n",
      "activation_11 (Activation)   (None, 28, 28, 64)        0         \n",
      "_________________________________________________________________\n",
      "conv2d_12 (Conv2D)           (None, 28, 28, 64)        36928     \n",
      "_________________________________________________________________\n",
      "batch_normalization_11 (Batc (None, 28, 28, 64)        256       \n",
      "_________________________________________________________________\n",
      "activation_12 (Activation)   (None, 28, 28, 64)        0         \n",
      "_________________________________________________________________\n",
      "conv2d_13 (Conv2D)           (None, 28, 28, 64)        36928     \n",
      "_________________________________________________________________\n",
      "batch_normalization_12 (Batc (None, 28, 28, 64)        256       \n",
      "_________________________________________________________________\n",
      "activation_13 (Activation)   (None, 28, 28, 64)        0         \n",
      "_________________________________________________________________\n",
      "conv2d_14 (Conv2D)           (None, 28, 28, 64)        36928     \n",
      "_________________________________________________________________\n",
      "batch_normalization_13 (Batc (None, 28, 28, 64)        256       \n",
      "_________________________________________________________________\n",
      "activation_14 (Activation)   (None, 28, 28, 64)        0         \n",
      "_________________________________________________________________\n",
      "conv2d_15 (Conv2D)           (None, 28, 28, 64)        36928     \n",
      "_________________________________________________________________\n",
      "batch_normalization_14 (Batc (None, 28, 28, 64)        256       \n",
      "_________________________________________________________________\n",
      "activation_15 (Activation)   (None, 28, 28, 64)        0         \n",
      "_________________________________________________________________\n",
      "conv2d_16 (Conv2D)           (None, 28, 28, 64)        36928     \n",
      "_________________________________________________________________\n",
      "batch_normalization_15 (Batc (None, 28, 28, 64)        256       \n",
      "_________________________________________________________________\n",
      "activation_16 (Activation)   (None, 28, 28, 64)        0         \n",
      "_________________________________________________________________\n",
      "dense_9 (Dense)              (None, 28, 28, 1)         65        \n",
      "=================================================================\n",
      "Total params: 558,465\n",
      "Trainable params: 556,545\n",
      "Non-trainable params: 1,920\n",
      "_________________________________________________________________\n"
     ]
    }
   ],
   "source": [
    "autoencoderReconst.summary()"
   ]
  },
  {
   "cell_type": "code",
   "execution_count": null,
   "metadata": {},
   "outputs": [],
   "source": [
    "plt.figure(figsize=(6, 6))\n",
    "plt.scatter(x_test_encoded[:, 0], x_test_encoded[:, 1], c=y_test2,marker=u'o',cmap=plt.cm.RdYlGn)\n",
    "plt.scatter(x_train_encoded[:, 0], x_train_encoded[:, 1], c=y_train2,marker=u'+',cmap=plt.cm.RdYlGn)\n",
    "plt.colorbar()\n",
    "#plt.savefig(plot_name)\n",
    "\n",
    "from sklearn import decomposition\n",
    "pca = decomposition.PCA(n_components=2)\n",
    "pca.fit(x2train)\n",
    "x3test = pca.transform(x2test)\n",
    "x3train = pca.transform(x2train)\n",
    "\n",
    "plt.figure(figsize=(6, 6))\n",
    "plt.scatter(x3test[:, 0], x3test[:, 1], c=y_test2,marker=u'o',cmap=plt.cm.RdYlGn)\n",
    "plt.scatter(x3train[:, 0], x3train[:, 1], c=y_train2,marker=u'+',cmap=plt.cm.RdYlGn)\n",
    "plt.colorbar()\n",
    "#plt.savefig(plot_name3)\n",
    "\n",
    "if d_dims=='T':\n",
    "\tfig = plt.figure()\n",
    "\tax = fig.add_subplot(111, projection='3d')\n",
    "\tax.scatter(x2test[:, 0], x2test[:, 1], x2test[:,2], c=y_test2,marker=u'o')\n",
    "\tax.scatter(x2train[:, 0], x2train[:, 1], x2train[:, 2], c=y_train2,marker=u'+')\n",
    "#\tplt.savefig(plot_name2)\n",
    "\t\n",
    "\t\n",
    "\n",
    "autoencoder.summary()"
   ]
  },
  {
   "cell_type": "code",
   "execution_count": null,
   "metadata": {},
   "outputs": [],
   "source": [
    "autoencoderReconst.compile(optimizer='adadelta', loss='binary_crossentropy')\n",
    "autoencoderReconst.fit(x_trainEncRs, x_trainRs,\n",
    "                \tbatch_size=batch_size,\n",
    "                \tepochs=epochs,\n",
    "                \tshuffle=True,\n",
    "                \tvalidation_data=(x_testEncRs, x_testRs))"
   ]
  },
  {
   "cell_type": "code",
   "execution_count": 38,
   "metadata": {},
   "outputs": [],
   "source": [
    "x_trainRs = x_train.reshape(60000,28,28,1)\n",
    "x_testRs = x_test.reshape(10000,28,28,1)\n",
    "x_trainEncRs = x_train_encoded[0].reshape(60000,28,28,1)\n",
    "x_testEncRs = x_test_encoded[0].reshape(10000,28,28,1)"
   ]
  },
  {
   "cell_type": "code",
   "execution_count": null,
   "metadata": {},
   "outputs": [],
   "source": []
  }
 ],
 "metadata": {
  "kernelspec": {
   "display_name": "Python 3",
   "language": "python",
   "name": "python3"
  },
  "language_info": {
   "codemirror_mode": {
    "name": "ipython",
    "version": 3
   },
   "file_extension": ".py",
   "mimetype": "text/x-python",
   "name": "python",
   "nbconvert_exporter": "python",
   "pygments_lexer": "ipython3",
   "version": "3.6.7"
  }
 },
 "nbformat": 4,
 "nbformat_minor": 2
}
