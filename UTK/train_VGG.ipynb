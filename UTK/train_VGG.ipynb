{
 "cells": [
  {
   "cell_type": "markdown",
   "metadata": {
    "_uuid": "7c6e265aa320f20fb5c55b869ac9f4b576f57c55"
   },
   "source": [
    "UTKFace dataset is a large-scale face dataset with long age span (range from 0 to 116 years old). The dataset consists of over 20,000 face images with annotations of age, gender, and ethnicity. The images cover large variation in pose, facial expression, illumination, occlusion, resolution, etc. This dataset could be used on a variety of tasks, e.g., face detection, age estimation, age progression/regression, landmark localization, etc.\n",
    "\n",
    "The labels of each face image is embedded in the file name, formated like [age]_[gender]_[race]_[date&time].jpg\n",
    "\n",
    "[age] is an integer from 0 to 116, indicating the age\n",
    "[gender] is either 0 (male) or 1 (female)\n",
    "[race] is an integer from 0 to 4, denoting White, Black, Asian, Indian, and Others (like Hispanic, Latino, Middle Eastern).\n",
    "[date&time] is in the format of yyyymmddHHMMSSFFF, showing the date and time an image was collected to UTKFace"
   ]
  },
  {
   "cell_type": "code",
   "execution_count": 1,
   "metadata": {
    "_cell_guid": "b1076dfc-b9ad-4769-8c92-a6c4dae69d19",
    "_uuid": "8f2839f25d086af736a60e9eeb907d3b93b6e0e5"
   },
   "outputs": [],
   "source": [
    "import numpy as np # linear algebra\n",
    "import pandas as pd # data processing, CSV file I/O (e.g. pd.read_csv)\n",
    "import os\n",
    "import glob\n",
    "import pandas as pd\n",
    "import matplotlib.pyplot as plt\n",
    "import seaborn as sns"
   ]
  },
  {
   "cell_type": "code",
   "execution_count": 2,
   "metadata": {
    "_cell_guid": "79c7e3d0-c299-4dcb-8224-4455121ee9b0",
    "_uuid": "d629ff2d2480ee46fbb7e2d37f6b5fab8052498a"
   },
   "outputs": [
    {
     "name": "stdout",
     "output_type": "stream",
     "text": [
      "UTKFace\n",
      "UTKFace.tar.gz\n"
     ]
    }
   ],
   "source": [
    "%%bash\n",
    "ls data\n",
    "# it seems crop_part1 conists of subset of data contained in UTKFace so we won't be using it."
   ]
  },
  {
   "cell_type": "markdown",
   "metadata": {
    "_uuid": "a111eb9fae738b42a92c465e3bf63d385db6a67b"
   },
   "source": [
    "**Constants**"
   ]
  },
  {
   "cell_type": "code",
   "execution_count": 3,
   "metadata": {
    "_uuid": "867fd6bebbfda496ca070db1695fc38c6fa169d2"
   },
   "outputs": [
    {
     "data": {
      "text/plain": [
       "({0: 'male', 1: 'female'},\n",
       " {'male': 0, 'female': 1},\n",
       " {0: 'white', 1: 'black', 2: 'asian', 3: 'indian', 4: 'others'},\n",
       " {'white': 0, 'black': 1, 'asian': 2, 'indian': 3, 'others': 4})"
      ]
     },
     "execution_count": 3,
     "metadata": {},
     "output_type": "execute_result"
    }
   ],
   "source": [
    "DATA_DIR = \"data/UTKFace\"\n",
    "TRAIN_TEST_SPLIT = 0.7\n",
    "IM_WIDTH = IM_HEIGHT = 198\n",
    "ID_GENDER_MAP = {0: 'male', 1: 'female'}\n",
    "GENDER_ID_MAP = dict((g, i) for i, g in ID_GENDER_MAP.items())\n",
    "ID_RACE_MAP = {0: 'white', 1: 'black', 2: 'asian', 3: 'indian', 4: 'others'}\n",
    "RACE_ID_MAP = dict((r, i) for i, r in ID_RACE_MAP.items())\n",
    "\n",
    "ID_GENDER_MAP, GENDER_ID_MAP, ID_RACE_MAP, RACE_ID_MAP"
   ]
  },
  {
   "cell_type": "code",
   "execution_count": 4,
   "metadata": {
    "_uuid": "f82c1685a37d4e77022ff870cde57ea82f52c1a0"
   },
   "outputs": [],
   "source": [
    "def parse_filepath(filepath):\n",
    "    try:\n",
    "        path, filename = os.path.split(filepath)\n",
    "        filename, ext = os.path.splitext(filename)\n",
    "        age, gender, race, _ = filename.split(\"_\")\n",
    "        return int(age), ID_GENDER_MAP[int(gender)], ID_RACE_MAP[int(race)]\n",
    "    except Exception as e:\n",
    "        print(filepath)\n",
    "        return None, None, None"
   ]
  },
  {
   "cell_type": "code",
   "execution_count": 5,
   "metadata": {
    "_uuid": "350a2ac4feb3fd7ed81fa6e1d2066f0fdb1d2009"
   },
   "outputs": [],
   "source": [
    "# create a pandas data frame of images, age, gender and race\n",
    "files = glob.glob(os.path.join(DATA_DIR, \"*.jpg\"))"
   ]
  },
  {
   "cell_type": "code",
   "execution_count": 6,
   "metadata": {
    "_uuid": "59892f1296870fca397e6aaa1888e551d739901c"
   },
   "outputs": [
    {
     "name": "stdout",
     "output_type": "stream",
     "text": [
      "data/UTKFace/39_1_20170116174525125.jpg.chip.jpg\n",
      "data/UTKFace/61_1_20170109150557335.jpg.chip.jpg\n",
      "data/UTKFace/61_1_20170109142408075.jpg.chip.jpg\n"
     ]
    }
   ],
   "source": [
    "attributes = list(map(parse_filepath, files))"
   ]
  },
  {
   "cell_type": "code",
   "execution_count": 7,
   "metadata": {
    "_uuid": "527d33d9c883d6e45f1576152660ec2feb9be7cb"
   },
   "outputs": [
    {
     "data": {
      "text/html": [
       "<div>\n",
       "<style scoped>\n",
       "    .dataframe tbody tr th:only-of-type {\n",
       "        vertical-align: middle;\n",
       "    }\n",
       "\n",
       "    .dataframe tbody tr th {\n",
       "        vertical-align: top;\n",
       "    }\n",
       "\n",
       "    .dataframe thead th {\n",
       "        text-align: right;\n",
       "    }\n",
       "</style>\n",
       "<table border=\"1\" class=\"dataframe\">\n",
       "  <thead>\n",
       "    <tr style=\"text-align: right;\">\n",
       "      <th></th>\n",
       "      <th>age</th>\n",
       "      <th>gender</th>\n",
       "      <th>race</th>\n",
       "      <th>file</th>\n",
       "    </tr>\n",
       "  </thead>\n",
       "  <tbody>\n",
       "    <tr>\n",
       "      <th>0</th>\n",
       "      <td>65.0</td>\n",
       "      <td>male</td>\n",
       "      <td>indian</td>\n",
       "      <td>data/UTKFace/65_0_3_20170119205206575.jpg.chip...</td>\n",
       "    </tr>\n",
       "    <tr>\n",
       "      <th>1</th>\n",
       "      <td>16.0</td>\n",
       "      <td>male</td>\n",
       "      <td>white</td>\n",
       "      <td>data/UTKFace/16_0_0_20170110232429214.jpg.chip...</td>\n",
       "    </tr>\n",
       "    <tr>\n",
       "      <th>2</th>\n",
       "      <td>52.0</td>\n",
       "      <td>male</td>\n",
       "      <td>white</td>\n",
       "      <td>data/UTKFace/52_0_0_20170111195726274.jpg.chip...</td>\n",
       "    </tr>\n",
       "    <tr>\n",
       "      <th>3</th>\n",
       "      <td>18.0</td>\n",
       "      <td>female</td>\n",
       "      <td>white</td>\n",
       "      <td>data/UTKFace/18_1_0_20170109212921724.jpg.chip...</td>\n",
       "    </tr>\n",
       "    <tr>\n",
       "      <th>4</th>\n",
       "      <td>57.0</td>\n",
       "      <td>female</td>\n",
       "      <td>white</td>\n",
       "      <td>data/UTKFace/57_1_0_20170120221057091.jpg.chip...</td>\n",
       "    </tr>\n",
       "  </tbody>\n",
       "</table>\n",
       "</div>"
      ],
      "text/plain": [
       "    age  gender    race                                               file\n",
       "0  65.0    male  indian  data/UTKFace/65_0_3_20170119205206575.jpg.chip...\n",
       "1  16.0    male   white  data/UTKFace/16_0_0_20170110232429214.jpg.chip...\n",
       "2  52.0    male   white  data/UTKFace/52_0_0_20170111195726274.jpg.chip...\n",
       "3  18.0  female   white  data/UTKFace/18_1_0_20170109212921724.jpg.chip...\n",
       "4  57.0  female   white  data/UTKFace/57_1_0_20170120221057091.jpg.chip..."
      ]
     },
     "execution_count": 7,
     "metadata": {},
     "output_type": "execute_result"
    }
   ],
   "source": [
    "df = pd.DataFrame(attributes)\n",
    "df['file'] = files\n",
    "df.columns = ['age', 'gender', 'race', 'file']\n",
    "df = df.dropna()\n",
    "df.head()"
   ]
  },
  {
   "cell_type": "markdown",
   "metadata": {
    "_uuid": "d18e6ecec2b0c063772349e57bb0769b4041868d"
   },
   "source": [
    "# Exploratory analysis"
   ]
  },
  {
   "cell_type": "code",
   "execution_count": 8,
   "metadata": {
    "_uuid": "6302cb5074f68d4c397d2b133d2d7b4b4386a25b"
   },
   "outputs": [
    {
     "data": {
      "text/html": [
       "<div>\n",
       "<style scoped>\n",
       "    .dataframe tbody tr th:only-of-type {\n",
       "        vertical-align: middle;\n",
       "    }\n",
       "\n",
       "    .dataframe tbody tr th {\n",
       "        vertical-align: top;\n",
       "    }\n",
       "\n",
       "    .dataframe thead th {\n",
       "        text-align: right;\n",
       "    }\n",
       "</style>\n",
       "<table border=\"1\" class=\"dataframe\">\n",
       "  <thead>\n",
       "    <tr style=\"text-align: right;\">\n",
       "      <th></th>\n",
       "      <th>age</th>\n",
       "    </tr>\n",
       "  </thead>\n",
       "  <tbody>\n",
       "    <tr>\n",
       "      <th>count</th>\n",
       "      <td>23705.000000</td>\n",
       "    </tr>\n",
       "    <tr>\n",
       "      <th>mean</th>\n",
       "      <td>33.300907</td>\n",
       "    </tr>\n",
       "    <tr>\n",
       "      <th>std</th>\n",
       "      <td>19.885708</td>\n",
       "    </tr>\n",
       "    <tr>\n",
       "      <th>min</th>\n",
       "      <td>1.000000</td>\n",
       "    </tr>\n",
       "    <tr>\n",
       "      <th>25%</th>\n",
       "      <td>23.000000</td>\n",
       "    </tr>\n",
       "    <tr>\n",
       "      <th>50%</th>\n",
       "      <td>29.000000</td>\n",
       "    </tr>\n",
       "    <tr>\n",
       "      <th>75%</th>\n",
       "      <td>45.000000</td>\n",
       "    </tr>\n",
       "    <tr>\n",
       "      <th>max</th>\n",
       "      <td>116.000000</td>\n",
       "    </tr>\n",
       "  </tbody>\n",
       "</table>\n",
       "</div>"
      ],
      "text/plain": [
       "                age\n",
       "count  23705.000000\n",
       "mean      33.300907\n",
       "std       19.885708\n",
       "min        1.000000\n",
       "25%       23.000000\n",
       "50%       29.000000\n",
       "75%       45.000000\n",
       "max      116.000000"
      ]
     },
     "execution_count": 8,
     "metadata": {},
     "output_type": "execute_result"
    }
   ],
   "source": [
    "df.describe()"
   ]
  },
  {
   "cell_type": "code",
   "execution_count": 9,
   "metadata": {
    "_uuid": "80540a33e6cca052ac63c2799ddeea026a271d79"
   },
   "outputs": [
    {
     "data": {
      "image/png": "[encoded data removed]",
      "text/plain": [
       "<Figure size 1080x432 with 2 Axes>"
      ]
     },
     "metadata": {
      "needs_background": "light"
     },
     "output_type": "display_data"
    }
   ],
   "source": [
    "fig, (ax1, ax2) = plt.subplots(1, 2, figsize=(15, 6))\n",
    "_ = sns.boxplot(data=df, x='gender', y='age', ax=ax1)\n",
    "_ = sns.boxplot(data=df, x='race', y='age', ax=ax2)"
   ]
  },
  {
   "cell_type": "markdown",
   "metadata": {
    "_uuid": "e6173964c8ab34dfef88c1f697a9e7a7868d5031"
   },
   "source": [
    "From the plot we can see that most of people are within 10 and 55 years of age. Most probably, we'll discard the dataset for rest of the ages."
   ]
  },
  {
   "cell_type": "code",
   "execution_count": 10,
   "metadata": {
    "_uuid": "4447de1391041f28b60c61ecdb82e652a6ecf77d"
   },
   "outputs": [
    {
     "data": {
      "text/plain": [
       "<matplotlib.axes._subplots.AxesSubplot at 0x7f5ebc057a20>"
      ]
     },
     "execution_count": 10,
     "metadata": {},
     "output_type": "execute_result"
    },
    {
     "data": {
      "image/png": "[encoded data removed]",
      "text/plain": [
       "<Figure size 1080x432 with 1 Axes>"
      ]
     },
     "metadata": {
      "needs_background": "light"
     },
     "output_type": "display_data"
    }
   ],
   "source": [
    "plt.figure(figsize=(15, 6))\n",
    "sns.boxplot(data=df, x='gender', y='age', hue='race')"
   ]
  },
  {
   "cell_type": "code",
   "execution_count": 11,
   "metadata": {
    "_uuid": "4931ac80da59c52f82a0b3a4562369ec55ef5b16"
   },
   "outputs": [
    {
     "data": {
      "text/plain": [
       "<matplotlib.axes._subplots.AxesSubplot at 0x7f5eb42a87f0>"
      ]
     },
     "execution_count": 11,
     "metadata": {},
     "output_type": "execute_result"
    },
    {
     "data": {
      "image/png": "[encoded data removed]",
      "text/plain": [
       "<Figure size 432x288 with 1 Axes>"
      ]
     },
     "metadata": {
      "needs_background": "light"
     },
     "output_type": "display_data"
    }
   ],
   "source": [
    "df.groupby(by=['race', 'gender'])['age'].count().plot(kind='bar')"
   ]
  },
  {
   "cell_type": "markdown",
   "metadata": {
    "_uuid": "ee2c5d3e747d7fcd1ec0fb9e4766a358b0f991e6"
   },
   "source": [
    "It turns out that there are many images of *white male* and *while female*. images from *others* category are very less in number compared to rest of the categories especially *white* category.\n",
    "Let's analyze our data from *age* perspective."
   ]
  },
  {
   "cell_type": "code",
   "execution_count": 12,
   "metadata": {
    "_uuid": "6e9d71f01a878481ab3104a17372880e69eca247"
   },
   "outputs": [
    {
     "data": {
      "text/plain": [
       "<matplotlib.axes._subplots.AxesSubplot at 0x7f5eb416ab00>"
      ]
     },
     "execution_count": 12,
     "metadata": {},
     "output_type": "execute_result"
    },
    {
     "data": {
      "image/png": "[encoded data removed]",
      "text/plain": [
       "<Figure size 432x288 with 1 Axes>"
      ]
     },
     "metadata": {
      "needs_background": "light"
     },
     "output_type": "display_data"
    }
   ],
   "source": [
    "df['age'].hist()"
   ]
  },
  {
   "cell_type": "code",
   "execution_count": 13,
   "metadata": {
    "_uuid": "4f31b96c2c3e1e4f4ba3a61d3dad49b103a4cd43"
   },
   "outputs": [
    {
     "data": {
      "text/plain": [
       "count    23705.000000\n",
       "mean        33.300907\n",
       "std         19.885708\n",
       "min          1.000000\n",
       "25%         23.000000\n",
       "50%         29.000000\n",
       "75%         45.000000\n",
       "max        116.000000\n",
       "Name: age, dtype: float64"
      ]
     },
     "execution_count": 13,
     "metadata": {},
     "output_type": "execute_result"
    }
   ],
   "source": [
    "df['age'].describe()"
   ]
  },
  {
   "cell_type": "code",
   "execution_count": 14,
   "metadata": {
    "_uuid": "782a055ef996f186e9c59a25a71e88760d0aed62"
   },
   "outputs": [],
   "source": [
    "df = df[(df['age'] > 10) & (df['age'] < 65)]"
   ]
  },
  {
   "cell_type": "markdown",
   "metadata": {
    "_uuid": "ac2f3eca61465d5f94e350af87dca999418953bb"
   },
   "source": [
    "# Data prep"
   ]
  },
  {
   "cell_type": "code",
   "execution_count": 15,
   "metadata": {
    "_uuid": "25b28ba3c0a314feac7346129d50c1a7dfda6bcf"
   },
   "outputs": [
    {
     "data": {
      "text/plain": [
       "(9079, 3891, 5559, 64.0)"
      ]
     },
     "execution_count": 15,
     "metadata": {},
     "output_type": "execute_result"
    }
   ],
   "source": [
    "p = np.random.permutation(len(df))\n",
    "train_up_to = int(len(df) * TRAIN_TEST_SPLIT)\n",
    "train_idx = p[:train_up_to]\n",
    "test_idx = p[train_up_to:]\n",
    "\n",
    "# split train_idx further into training and validation set\n",
    "train_up_to = int(train_up_to * 0.7)\n",
    "train_idx, valid_idx = train_idx[:train_up_to], train_idx[train_up_to:]\n",
    "\n",
    "df['gender_id'] = df['gender'].map(lambda gender: GENDER_ID_MAP[gender])\n",
    "df['race_id'] = df['race'].map(lambda race: RACE_ID_MAP[race])\n",
    "\n",
    "max_age = df['age'].max()\n",
    "len(train_idx), len(valid_idx), len(test_idx), max_age"
   ]
  },
  {
   "cell_type": "code",
   "execution_count": 16,
   "metadata": {
    "_uuid": "653d7b0737ffcaf69140e6de74e111e165ae808a"
   },
   "outputs": [
    {
     "name": "stderr",
     "output_type": "stream",
     "text": [
      "Using TensorFlow backend.\n"
     ]
    }
   ],
   "source": [
    "from keras.utils import to_categorical\n",
    "from PIL import Image\n",
    "\n",
    "def get_data_generator(df, indices, for_training, batch_size=16):\n",
    "    images, ages, races, genders = [], [], [], []\n",
    "    while True:\n",
    "        for i in indices:\n",
    "            r = df.iloc[i]\n",
    "            file, age, race, gender = r['file'], r['age'], r['race_id'], r['gender_id']\n",
    "            im = Image.open(file)\n",
    "            im = im.resize((IM_WIDTH, IM_HEIGHT))\n",
    "            im = np.array(im) / 255.0\n",
    "            images.append(im)\n",
    "            ages.append(age / max_age)\n",
    "            races.append(to_categorical(race, len(RACE_ID_MAP)))\n",
    "            genders.append(to_categorical(gender, 2))\n",
    "            if len(images) >= batch_size:\n",
    "                yield np.array(images), [np.array(ages), np.array(races), np.array(genders)]\n",
    "                images, ages, races, genders = [], [], [], []\n",
    "        if not for_training:\n",
    "            break"
   ]
  },
  {
   "cell_type": "markdown",
   "metadata": {
    "_uuid": "0e067d94f007bf8acae0e2675f1b6f243cd7eac7"
   },
   "source": [
    "# Model training"
   ]
  },
  {
   "cell_type": "code",
   "execution_count": 17,
   "metadata": {
    "_uuid": "ab00d8ecdf293d999eb0feeb1accb82d936937ff"
   },
   "outputs": [],
   "source": [
    "from keras.layers import Input, Dense, BatchNormalization, Conv2D, MaxPool2D, GlobalMaxPool2D, Dropout, Flatten\n",
    "from keras.optimizers import SGD, RMSprop\n",
    "from keras.models import Model\n",
    "from keras import applications\n",
    "\n",
    "vgg_model = applications.VGG16(weights='imagenet',\n",
    "                               include_top=False,\n",
    "                               input_shape=(IM_HEIGHT, IM_WIDTH, 3))\n",
    "\n",
    "x = vgg_model.output\n",
    "x = Flatten()(x)\n",
    "x = Dense(4096, activation='relu')(x)\n",
    "\n",
    "# for age calculation\n",
    "age = Dense(units=128, activation='relu')(x)\n",
    "age_output = Dense(units=1, activation='sigmoid', name='age_output')(age)\n",
    "\n",
    "# for race prediction\n",
    "race = Dense(units=128, activation='relu')(x)\n",
    "race_output = Dense(units=len(RACE_ID_MAP), activation='softmax', name='race_output')(race)\n",
    "\n",
    "# for gender prediction\n",
    "gender = Dense(units=128, activation='relu')(x)\n",
    "gender_output = Dense(units=len(GENDER_ID_MAP), activation='softmax', name='gender_output')(gender)\n",
    "\n",
    "model = Model(inputs=vgg_model.input, outputs=[age_output, race_output, gender_output])\n",
    "opt = RMSprop(lr=1e-5)\n",
    "model.compile(optimizer=opt, \n",
    "              loss={'age_output': 'mse', 'race_output': 'categorical_crossentropy', 'gender_output': 'categorical_crossentropy'},\n",
    "              loss_weights={'age_output': 2., 'race_output': 1.5, 'gender_output': 1.},\n",
    "              metrics={'age_output': 'mae', 'race_output': 'accuracy', 'gender_output': 'accuracy'})\n",
    "# model.summary()"
   ]
  },
  {
   "cell_type": "code",
   "execution_count": null,
   "metadata": {
    "_uuid": "e623d31c68be2b4f61c3f72749b23e1c694da729",
    "scrolled": true
   },
   "outputs": [
    {
     "name": "stdout",
     "output_type": "stream",
     "text": [
      "Epoch 1/10\n",
      "141/141 [==============================] - 53s 379ms/step - loss: 2.0196 - age_output_loss: 0.0303 - race_output_loss: 1.0790 - gender_output_loss: 0.3405 - age_output_mean_absolute_error: 0.1379 - race_output_acc: 0.5858 - gender_output_acc: 0.8380 - val_loss: 1.6278 - val_age_output_loss: 0.0335 - val_race_output_loss: 0.8193 - val_gender_output_loss: 0.3319 - val_age_output_mean_absolute_error: 0.1438 - val_race_output_acc: 0.7174 - val_gender_output_acc: 0.8682\n",
      "Epoch 2/10\n",
      "141/141 [==============================] - 51s 363ms/step - loss: 1.3206 - age_output_loss: 0.0234 - race_output_loss: 0.7304 - gender_output_loss: 0.1780 - age_output_mean_absolute_error: 0.1205 - race_output_acc: 0.7377 - gender_output_acc: 0.9320 - val_loss: 1.2799 - val_age_output_loss: 0.0272 - val_race_output_loss: 0.6845 - val_gender_output_loss: 0.1988 - val_age_output_mean_absolute_error: 0.1342 - val_race_output_acc: 0.7555 - val_gender_output_acc: 0.9352\n",
      "Epoch 3/10\n",
      "141/141 [==============================] - 51s 364ms/step - loss: 0.9964 - age_output_loss: 0.0206 - race_output_loss: 0.5495 - gender_output_loss: 0.1309 - age_output_mean_absolute_error: 0.1135 - race_output_acc: 0.8052 - gender_output_acc: 0.9547 - val_loss: 1.3775 - val_age_output_loss: 0.0200 - val_race_output_loss: 0.7634 - val_gender_output_loss: 0.1925 - val_age_output_mean_absolute_error: 0.1115 - val_race_output_acc: 0.7391 - val_gender_output_acc: 0.9367\n",
      "Epoch 4/10\n",
      "141/141 [==============================] - 51s 365ms/step - loss: 0.7422 - age_output_loss: 0.0189 - race_output_loss: 0.4053 - gender_output_loss: 0.0964 - age_output_mean_absolute_error: 0.1083 - race_output_acc: 0.8616 - gender_output_acc: 0.9676 - val_loss: 1.1617 - val_age_output_loss: 0.0212 - val_race_output_loss: 0.6152 - val_gender_output_loss: 0.1966 - val_age_output_mean_absolute_error: 0.1138 - val_race_output_acc: 0.7943 - val_gender_output_acc: 0.9424\n",
      "Epoch 5/10\n",
      "141/141 [==============================] - 51s 365ms/step - loss: 0.5390 - age_output_loss: 0.0187 - race_output_loss: 0.2891 - gender_output_loss: 0.0679 - age_output_mean_absolute_error: 0.1086 - race_output_acc: 0.9049 - gender_output_acc: 0.9791 - val_loss: 1.3002 - val_age_output_loss: 0.0227 - val_race_output_loss: 0.6932 - val_gender_output_loss: 0.2149 - val_age_output_mean_absolute_error: 0.1197 - val_race_output_acc: 0.7932 - val_gender_output_acc: 0.9427\n",
      "Epoch 6/10\n",
      "141/141 [==============================] - 52s 367ms/step - loss: 0.3740 - age_output_loss: 0.0196 - race_output_loss: 0.1873 - gender_output_loss: 0.0538 - age_output_mean_absolute_error: 0.1115 - race_output_acc: 0.9388 - gender_output_acc: 0.9833 - val_loss: 1.3242 - val_age_output_loss: 0.0248 - val_race_output_loss: 0.6992 - val_gender_output_loss: 0.2259 - val_age_output_mean_absolute_error: 0.1232 - val_race_output_acc: 0.7786 - val_gender_output_acc: 0.9398\n",
      "Epoch 7/10\n",
      "141/141 [==============================] - 54s 380ms/step - loss: 0.2822 - age_output_loss: 0.0199 - race_output_loss: 0.1324 - gender_output_loss: 0.0438 - age_output_mean_absolute_error: 0.1128 - race_output_acc: 0.9618 - gender_output_acc: 0.9880 - val_loss: 1.3866 - val_age_output_loss: 0.0359 - val_race_output_loss: 0.7177 - val_gender_output_loss: 0.2382 - val_age_output_mean_absolute_error: 0.1512 - val_race_output_acc: 0.7919 - val_gender_output_acc: 0.9422\n",
      "Epoch 8/10\n",
      "141/141 [==============================] - 54s 382ms/step - loss: 0.2043 - age_output_loss: 0.0177 - race_output_loss: 0.0878 - gender_output_loss: 0.0372 - age_output_mean_absolute_error: 0.1058 - race_output_acc: 0.9766 - gender_output_acc: 0.9889 - val_loss: 1.5969 - val_age_output_loss: 0.0236 - val_race_output_loss: 0.8720 - val_gender_output_loss: 0.2418 - val_age_output_mean_absolute_error: 0.1196 - val_race_output_acc: 0.7760 - val_gender_output_acc: 0.9430\n",
      "Epoch 9/10\n",
      "141/141 [==============================] - 53s 373ms/step - loss: 0.1621 - age_output_loss: 0.0144 - race_output_loss: 0.0640 - gender_output_loss: 0.0371 - age_output_mean_absolute_error: 0.0953 - race_output_acc: 0.9835 - gender_output_acc: 0.9910 - val_loss: 2.1109 - val_age_output_loss: 0.0215 - val_race_output_loss: 1.2133 - val_gender_output_loss: 0.2479 - val_age_output_mean_absolute_error: 0.1152 - val_race_output_acc: 0.6784 - val_gender_output_acc: 0.9417\n",
      "Epoch 10/10\n",
      " 73/141 [==============>...............] - ETA: 21s - loss: 0.1239 - age_output_loss: 0.0102 - race_output_loss: 0.0605 - gender_output_loss: 0.0127 - age_output_mean_absolute_error: 0.0790 - race_output_acc: 0.9835 - gender_output_acc: 0.9983"
     ]
    }
   ],
   "source": [
    "from keras.callbacks import ModelCheckpoint\n",
    "\n",
    "batch_size = 64\n",
    "valid_batch_size = 64\n",
    "train_gen = get_data_generator(df, train_idx, for_training=True, batch_size=batch_size)\n",
    "valid_gen = get_data_generator(df, valid_idx, for_training=True, batch_size=valid_batch_size)\n",
    "\n",
    "callbacks = [\n",
    "    ModelCheckpoint(\"./models/original_VGG_model.h5\", monitor='val_loss')\n",
    "]\n",
    "\n",
    "history = model.fit_generator(train_gen,\n",
    "                    steps_per_epoch=len(train_idx)//batch_size,\n",
    "                    epochs=10,\n",
    "                    callbacks=callbacks,\n",
    "                    validation_data=valid_gen,\n",
    "                    validation_steps=len(valid_idx)//valid_batch_size)\n",
    "                    \n"
   ]
  },
  {
   "cell_type": "code",
   "execution_count": null,
   "metadata": {
    "_uuid": "5f764bc8c13608a9777e4dc63e00275d243570c2"
   },
   "outputs": [],
   "source": [
    "def  plot_train_history(history):\n",
    "    fig, axes = plt.subplots(1, 4, figsize=(20, 5))\n",
    "    axes[0].plot(history.history['race_output_acc'], label='Race Train accuracy')\n",
    "    axes[0].plot(history.history['val_race_output_acc'], label='Race Val accuracy')\n",
    "    axes[0].set_xlabel('Epochs')\n",
    "    axes[0].legend()\n",
    "    \n",
    "    axes[1].plot(history.history['gender_output_acc'], label='Gender Train accuracy')\n",
    "    axes[1].plot(history.history['val_gender_output_acc'], label='Gener Val accuracy')\n",
    "    axes[1].set_xlabel('Epochs')\n",
    "    axes[1].legend()\n",
    "\n",
    "    axes[2].plot(history.history['age_output_mean_absolute_error'], label='Age Train MAE')\n",
    "    axes[2].plot(history.history['val_age_output_mean_absolute_error'], label='Age Val MAE')\n",
    "    axes[2].set_xlabel('Epochs')\n",
    "    axes[2].legend()  \n",
    "\n",
    "    axes[3].plot(history.history['loss'], label='Training loss')\n",
    "    axes[3].plot(history.history['val_loss'], label='Validation loss')\n",
    "    axes[3].set_xlabel('Epochs')\n",
    "    axes[3].legend()\n",
    "\n",
    "plot_train_history(history)"
   ]
  },
  {
   "cell_type": "code",
   "execution_count": null,
   "metadata": {
    "_uuid": "a33d2008b8da404b134a39a8c25d216cb2c6c533"
   },
   "outputs": [],
   "source": [
    "test_gen = get_data_generator(df, test_idx, for_training=False, batch_size=128)\n",
    "dict(zip(model.metrics_names, model.evaluate_generator(test_gen, steps=len(test_idx)//128)))"
   ]
  },
  {
   "cell_type": "code",
   "execution_count": null,
   "metadata": {
    "_uuid": "e4f8ee9244872a68e902cefc7ae1825ac7a94ce3"
   },
   "outputs": [],
   "source": [
    "test_gen = get_data_generator(df, test_idx, for_training=False, batch_size=128)\n",
    "x_test, (age_true, race_true, gender_true)= next(test_gen)\n",
    "age_pred, race_pred, gender_pred = model.predict_on_batch(x_test)"
   ]
  },
  {
   "cell_type": "code",
   "execution_count": null,
   "metadata": {
    "_uuid": "625bef1ee6a62be465d11354963fd049cf8c57b5"
   },
   "outputs": [],
   "source": [
    "race_true, gender_true = race_true.argmax(axis=-1), gender_true.argmax(axis=-1)\n",
    "race_pred, gender_pred = race_pred.argmax(axis=-1), gender_pred.argmax(axis=-1)\n",
    "age_true = age_true * max_age\n",
    "age_pred = age_pred * max_age"
   ]
  },
  {
   "cell_type": "code",
   "execution_count": null,
   "metadata": {
    "_uuid": "4c94da427745673a748afe309fc009e2a97b72b4"
   },
   "outputs": [],
   "source": [
    "from sklearn.metrics import classification_report\n",
    "print(\"Classification report for race\")\n",
    "print(classification_report(race_true, race_pred))\n",
    "\n",
    "print(\"\\nClassification report for gender\")\n",
    "print(classification_report(gender_true, gender_pred))\n"
   ]
  },
  {
   "cell_type": "code",
   "execution_count": null,
   "metadata": {
    "_uuid": "f207a3b95ddd1cfddaf7dd7cc0f61c703db0d48b"
   },
   "outputs": [],
   "source": [
    "import math\n",
    "n = 30\n",
    "random_indices = np.random.permutation(n)\n",
    "n_cols = 5\n",
    "n_rows = math.ceil(n / n_cols)\n",
    "fig, axes = plt.subplots(n_rows, n_cols, figsize=(15, 20))\n",
    "for i, img_idx in enumerate(random_indices):\n",
    "    ax = axes.flat[i]\n",
    "    ax.imshow(x_test[img_idx])\n",
    "    ax.set_title('a:{}, g:{}, r:{}'.format(int(age_pred[img_idx]), ID_GENDER_MAP[gender_pred[img_idx]], ID_RACE_MAP[race_pred[img_idx]]))\n",
    "    ax.set_xlabel('a:{}, g:{}, r:{}'.format(int(age_true[img_idx]), ID_GENDER_MAP[gender_true[img_idx]], ID_RACE_MAP[race_true[img_idx]]))\n",
    "    ax.set_xticks([])\n",
    "    ax.set_yticks([])\n",
    "    "
   ]
  },
  {
   "cell_type": "code",
   "execution_count": null,
   "metadata": {
    "_uuid": "4df916174f1968266afc17988e4bb02cf1cccca0",
    "collapsed": true
   },
   "outputs": [],
   "source": []
  },
  {
   "cell_type": "code",
   "execution_count": null,
   "metadata": {
    "_uuid": "b269b292feb5d018ce8d7f6ec45eea06de6c581b",
    "collapsed": true
   },
   "outputs": [],
   "source": []
  },
  {
   "cell_type": "code",
   "execution_count": null,
   "metadata": {
    "_uuid": "01b2658ac01f423ab0ee1137d3b94054c083c018",
    "collapsed": true
   },
   "outputs": [],
   "source": []
  },
  {
   "cell_type": "code",
   "execution_count": null,
   "metadata": {
    "_uuid": "06f185fb8e1863d3bc9003d1a13e312cd554ceaf",
    "collapsed": true
   },
   "outputs": [],
   "source": []
  },
  {
   "cell_type": "code",
   "execution_count": null,
   "metadata": {
    "_uuid": "ae92b82f031d82f1f68c2547c992e1ccbda4de21",
    "collapsed": true
   },
   "outputs": [],
   "source": []
  }
 ],
 "metadata": {
  "kernelspec": {
   "display_name": "Python 3",
   "language": "python",
   "name": "python3"
  },
  "language_info": {
   "codemirror_mode": {
    "name": "ipython",
    "version": 3
   },
   "file_extension": ".py",
   "mimetype": "text/x-python",
   "name": "python",
   "nbconvert_exporter": "python",
   "pygments_lexer": "ipython3",
   "version": "3.6.7"
  }
 },
 "nbformat": 4,
 "nbformat_minor": 1
}
